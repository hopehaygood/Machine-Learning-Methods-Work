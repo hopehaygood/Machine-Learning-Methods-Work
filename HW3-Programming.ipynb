{
 "cells": [
  {
   "cell_type": "markdown",
   "id": "organized-stadium",
   "metadata": {},
   "source": [
    "# HW 3 Programming Part"
   ]
  },
  {
   "cell_type": "markdown",
   "id": "usual-upper",
   "metadata": {},
   "source": [
    "## Problem 1"
   ]
  },
  {
   "cell_type": "markdown",
   "id": "driving-there",
   "metadata": {},
   "source": [
    "Read in the dataset stored in 'HW3P1.txt'. The first two columns represent two features, and the last column is the labels (0 and 1).\n",
    "\n",
    "(a) Plot the training data, each class with a different color and marker.\n",
    "\n",
    "(b) Build two linear SVM classifiers, one with $C=1$ and one with $C=100$. Plot the decision boundary for each case along with the training data.\n",
    "\n",
    "(c) Interpretate what leads to the different behavior of the two models (and thus the decision boundaries)."
   ]
  },
  {
   "cell_type": "code",
   "execution_count": 271,
   "id": "19eef57e",
   "metadata": {},
   "outputs": [],
   "source": [
    "import numpy as np\n",
    "import pandas as pd\n",
    "from sklearn import datasets\n",
    "from sklearn.preprocessing import StandardScaler\n",
    "from sklearn.svm import LinearSVC\n",
    "from sklearn.pipeline import Pipeline\n",
    "from sklearn.datasets import make_moons\n",
    "from sklearn.preprocessing import PolynomialFeatures\n",
    "from sklearn.svm import SVC\n",
    "import matplotlib.pyplot as plt\n",
    "%matplotlib inline\n",
    "from sklearn.model_selection import train_test_split\n",
    "from sklearn.linear_model import LogisticRegression\n",
    "from sklearn.metrics import precision_score, recall_score, f1_score\n",
    "from sklearn.metrics import roc_curve, roc_auc_score"
   ]
  },
  {
   "cell_type": "code",
   "execution_count": 186,
   "id": "b7b75143",
   "metadata": {},
   "outputs": [],
   "source": [
    "# Reading in the data:\n",
    "HW3P1= pd.read_csv('HW3P1 (1).txt', sep = \" \", header=None)"
   ]
  },
  {
   "cell_type": "code",
   "execution_count": 187,
   "id": "7455c560",
   "metadata": {},
   "outputs": [
    {
     "data": {
      "text/html": [
       "<div>\n",
       "<style scoped>\n",
       "    .dataframe tbody tr th:only-of-type {\n",
       "        vertical-align: middle;\n",
       "    }\n",
       "\n",
       "    .dataframe tbody tr th {\n",
       "        vertical-align: top;\n",
       "    }\n",
       "\n",
       "    .dataframe thead th {\n",
       "        text-align: right;\n",
       "    }\n",
       "</style>\n",
       "<table border=\"1\" class=\"dataframe\">\n",
       "  <thead>\n",
       "    <tr style=\"text-align: right;\">\n",
       "      <th></th>\n",
       "      <th>0</th>\n",
       "      <th>1</th>\n",
       "      <th>2</th>\n",
       "    </tr>\n",
       "  </thead>\n",
       "  <tbody>\n",
       "    <tr>\n",
       "      <th>0</th>\n",
       "      <td>1.9643</td>\n",
       "      <td>4.5957</td>\n",
       "      <td>1.0</td>\n",
       "    </tr>\n",
       "    <tr>\n",
       "      <th>1</th>\n",
       "      <td>2.2753</td>\n",
       "      <td>3.8589</td>\n",
       "      <td>1.0</td>\n",
       "    </tr>\n",
       "    <tr>\n",
       "      <th>2</th>\n",
       "      <td>2.9781</td>\n",
       "      <td>4.5651</td>\n",
       "      <td>1.0</td>\n",
       "    </tr>\n",
       "    <tr>\n",
       "      <th>3</th>\n",
       "      <td>2.9320</td>\n",
       "      <td>3.5519</td>\n",
       "      <td>1.0</td>\n",
       "    </tr>\n",
       "    <tr>\n",
       "      <th>4</th>\n",
       "      <td>3.5772</td>\n",
       "      <td>2.8560</td>\n",
       "      <td>1.0</td>\n",
       "    </tr>\n",
       "  </tbody>\n",
       "</table>\n",
       "</div>"
      ],
      "text/plain": [
       "        0       1    2\n",
       "0  1.9643  4.5957  1.0\n",
       "1  2.2753  3.8589  1.0\n",
       "2  2.9781  4.5651  1.0\n",
       "3  2.9320  3.5519  1.0\n",
       "4  3.5772  2.8560  1.0"
      ]
     },
     "execution_count": 187,
     "metadata": {},
     "output_type": "execute_result"
    }
   ],
   "source": [
    "# Read in the Data\n",
    "hw3p1_data = pd.read_csv('HW3P1 (1).txt', header = None, sep = \" \")\n",
    "# See what the data looks like\n",
    "hw3p1_data.head()"
   ]
  },
  {
   "cell_type": "code",
   "execution_count": 188,
   "id": "12746a6c",
   "metadata": {},
   "outputs": [
    {
     "data": {
      "text/html": [
       "<div>\n",
       "<style scoped>\n",
       "    .dataframe tbody tr th:only-of-type {\n",
       "        vertical-align: middle;\n",
       "    }\n",
       "\n",
       "    .dataframe tbody tr th {\n",
       "        vertical-align: top;\n",
       "    }\n",
       "\n",
       "    .dataframe thead th {\n",
       "        text-align: right;\n",
       "    }\n",
       "</style>\n",
       "<table border=\"1\" class=\"dataframe\">\n",
       "  <thead>\n",
       "    <tr style=\"text-align: right;\">\n",
       "      <th></th>\n",
       "      <th>0</th>\n",
       "      <th>1</th>\n",
       "    </tr>\n",
       "  </thead>\n",
       "  <tbody>\n",
       "    <tr>\n",
       "      <th>0</th>\n",
       "      <td>1.9643</td>\n",
       "      <td>4.5957</td>\n",
       "    </tr>\n",
       "    <tr>\n",
       "      <th>1</th>\n",
       "      <td>2.2753</td>\n",
       "      <td>3.8589</td>\n",
       "    </tr>\n",
       "    <tr>\n",
       "      <th>2</th>\n",
       "      <td>2.9781</td>\n",
       "      <td>4.5651</td>\n",
       "    </tr>\n",
       "    <tr>\n",
       "      <th>3</th>\n",
       "      <td>2.9320</td>\n",
       "      <td>3.5519</td>\n",
       "    </tr>\n",
       "    <tr>\n",
       "      <th>4</th>\n",
       "      <td>3.5772</td>\n",
       "      <td>2.8560</td>\n",
       "    </tr>\n",
       "  </tbody>\n",
       "</table>\n",
       "</div>"
      ],
      "text/plain": [
       "        0       1\n",
       "0  1.9643  4.5957\n",
       "1  2.2753  3.8589\n",
       "2  2.9781  4.5651\n",
       "3  2.9320  3.5519\n",
       "4  3.5772  2.8560"
      ]
     },
     "execution_count": 188,
     "metadata": {},
     "output_type": "execute_result"
    }
   ],
   "source": [
    "#Feature Matrix\n",
    "X = hw3p1_data.iloc[:,0:2]\n",
    "X.head()"
   ]
  },
  {
   "cell_type": "code",
   "execution_count": 189,
   "id": "4d2e2dce",
   "metadata": {},
   "outputs": [
    {
     "data": {
      "text/plain": [
       "0    1.0\n",
       "1    1.0\n",
       "2    1.0\n",
       "3    1.0\n",
       "4    1.0\n",
       "Name: 2, dtype: float64"
      ]
     },
     "execution_count": 189,
     "metadata": {},
     "output_type": "execute_result"
    }
   ],
   "source": [
    "#Create target Vector\n",
    "y = hw3p1_data.iloc[:, -1]\n",
    "y.head()"
   ]
  },
  {
   "cell_type": "code",
   "execution_count": 190,
   "id": "97db7673",
   "metadata": {},
   "outputs": [
    {
     "data": {
      "text/html": [
       "<div>\n",
       "<style scoped>\n",
       "    .dataframe tbody tr th:only-of-type {\n",
       "        vertical-align: middle;\n",
       "    }\n",
       "\n",
       "    .dataframe tbody tr th {\n",
       "        vertical-align: top;\n",
       "    }\n",
       "\n",
       "    .dataframe thead th {\n",
       "        text-align: right;\n",
       "    }\n",
       "</style>\n",
       "<table border=\"1\" class=\"dataframe\">\n",
       "  <thead>\n",
       "    <tr style=\"text-align: right;\">\n",
       "      <th></th>\n",
       "      <th>0</th>\n",
       "      <th>1</th>\n",
       "      <th>2</th>\n",
       "    </tr>\n",
       "  </thead>\n",
       "  <tbody>\n",
       "    <tr>\n",
       "      <th>20</th>\n",
       "      <td>1.5841</td>\n",
       "      <td>3.3575</td>\n",
       "      <td>0.0</td>\n",
       "    </tr>\n",
       "    <tr>\n",
       "      <th>21</th>\n",
       "      <td>2.0103</td>\n",
       "      <td>3.2039</td>\n",
       "      <td>0.0</td>\n",
       "    </tr>\n",
       "    <tr>\n",
       "      <th>22</th>\n",
       "      <td>1.9527</td>\n",
       "      <td>2.7843</td>\n",
       "      <td>0.0</td>\n",
       "    </tr>\n",
       "    <tr>\n",
       "      <th>23</th>\n",
       "      <td>2.2753</td>\n",
       "      <td>2.7127</td>\n",
       "      <td>0.0</td>\n",
       "    </tr>\n",
       "    <tr>\n",
       "      <th>24</th>\n",
       "      <td>2.3099</td>\n",
       "      <td>2.9584</td>\n",
       "      <td>0.0</td>\n",
       "    </tr>\n",
       "  </tbody>\n",
       "</table>\n",
       "</div>"
      ],
      "text/plain": [
       "         0       1    2\n",
       "20  1.5841  3.3575  0.0\n",
       "21  2.0103  3.2039  0.0\n",
       "22  1.9527  2.7843  0.0\n",
       "23  2.2753  2.7127  0.0\n",
       "24  2.3099  2.9584  0.0"
      ]
     },
     "execution_count": 190,
     "metadata": {},
     "output_type": "execute_result"
    }
   ],
   "source": [
    "# Create the labels for label \n",
    "\n",
    "label_0=hw3p1_data[hw3p1_data.iloc[:,2]==0]\n",
    "label_0.head()"
   ]
  },
  {
   "cell_type": "code",
   "execution_count": 191,
   "id": "f0deb703",
   "metadata": {},
   "outputs": [
    {
     "data": {
      "text/html": [
       "<div>\n",
       "<style scoped>\n",
       "    .dataframe tbody tr th:only-of-type {\n",
       "        vertical-align: middle;\n",
       "    }\n",
       "\n",
       "    .dataframe tbody tr th {\n",
       "        vertical-align: top;\n",
       "    }\n",
       "\n",
       "    .dataframe thead th {\n",
       "        text-align: right;\n",
       "    }\n",
       "</style>\n",
       "<table border=\"1\" class=\"dataframe\">\n",
       "  <thead>\n",
       "    <tr style=\"text-align: right;\">\n",
       "      <th></th>\n",
       "      <th>0</th>\n",
       "      <th>1</th>\n",
       "      <th>2</th>\n",
       "    </tr>\n",
       "  </thead>\n",
       "  <tbody>\n",
       "    <tr>\n",
       "      <th>0</th>\n",
       "      <td>1.9643</td>\n",
       "      <td>4.5957</td>\n",
       "      <td>1.0</td>\n",
       "    </tr>\n",
       "    <tr>\n",
       "      <th>1</th>\n",
       "      <td>2.2753</td>\n",
       "      <td>3.8589</td>\n",
       "      <td>1.0</td>\n",
       "    </tr>\n",
       "    <tr>\n",
       "      <th>2</th>\n",
       "      <td>2.9781</td>\n",
       "      <td>4.5651</td>\n",
       "      <td>1.0</td>\n",
       "    </tr>\n",
       "    <tr>\n",
       "      <th>3</th>\n",
       "      <td>2.9320</td>\n",
       "      <td>3.5519</td>\n",
       "      <td>1.0</td>\n",
       "    </tr>\n",
       "    <tr>\n",
       "      <th>4</th>\n",
       "      <td>3.5772</td>\n",
       "      <td>2.8560</td>\n",
       "      <td>1.0</td>\n",
       "    </tr>\n",
       "  </tbody>\n",
       "</table>\n",
       "</div>"
      ],
      "text/plain": [
       "        0       1    2\n",
       "0  1.9643  4.5957  1.0\n",
       "1  2.2753  3.8589  1.0\n",
       "2  2.9781  4.5651  1.0\n",
       "3  2.9320  3.5519  1.0\n",
       "4  3.5772  2.8560  1.0"
      ]
     },
     "execution_count": 191,
     "metadata": {},
     "output_type": "execute_result"
    }
   ],
   "source": [
    "# Create Labels for label 1\n",
    "\n",
    "label_1=hw3p1_data[hw3p1_data.iloc[:,2]==1]\n",
    "label_1.head()"
   ]
  },
  {
   "cell_type": "code",
   "execution_count": 192,
   "id": "e68af516",
   "metadata": {},
   "outputs": [
    {
     "data": {
      "image/png": "[encoded data removed]",
      "text/plain": [
       "<Figure size 432x288 with 1 Axes>"
      ]
     },
     "metadata": {
      "needs_background": "light"
     },
     "output_type": "display_data"
    }
   ],
   "source": [
    "# Visualize the data\n",
    "plt.scatter(label_0.iloc[:, 0], label_0.iloc[:, 1], label='0')\n",
    "plt.scatter(label_1.iloc[:, 0], label_1.iloc[:, 1], label='1')\n",
    "plt.legend()\n",
    "plt.xlabel('Label 0')\n",
    "plt.ylabel('Label 1');"
   ]
  },
  {
   "cell_type": "markdown",
   "id": "9ea35c74",
   "metadata": {},
   "source": [
    "(b) Build two linear SVM classifiers, one with $C=1$ and one with $C=100$. Plot the decision boundary for each case along with the training data."
   ]
  },
  {
   "cell_type": "code",
   "execution_count": 212,
   "id": "23171ccf",
   "metadata": {},
   "outputs": [
    {
     "data": {
      "text/plain": [
       "array([1.])"
      ]
     },
     "execution_count": 212,
     "metadata": {},
     "output_type": "execute_result"
    }
   ],
   "source": [
    "# First we will build a linear SVM Classifier with C=1\n",
    "\n",
    "\n",
    "# Build linear svm classifier\n",
    "# Scaling is important for SVM. \n",
    "# Build a Pipeline that first scales data and then trains the model\n",
    "svm_clf = Pipeline([\n",
    "    (\"scaler\", StandardScaler()),\n",
    "    (\"linear_svc\", LinearSVC(C=1, loss=\"hinge\", random_state=36)),\n",
    "])\n",
    "\n",
    "# Train the model\n",
    "svm_clf.fit(X, y)\n",
    "# Make a prediction\n",
    "svm_clf.predict([[5.5, 1.7]])"
   ]
  },
  {
   "cell_type": "code",
   "execution_count": 213,
   "id": "479a5629",
   "metadata": {},
   "outputs": [],
   "source": [
    "from sklearn.svm import SVC\n",
    "import numpy as np\n",
    "import matplotlib.pyplot as plt\n",
    "from sklearn import svm, datasets"
   ]
  },
  {
   "cell_type": "code",
   "execution_count": 195,
   "id": "b4f71722",
   "metadata": {},
   "outputs": [
    {
     "data": {
      "image/png": "[encoded data removed]",
      "text/plain": [
       "<Figure size 432x288 with 1 Axes>"
      ]
     },
     "metadata": {},
     "output_type": "display_data"
    },
    {
     "name": "stderr",
     "output_type": "stream",
     "text": [
      "No handles with labels found to put in legend.\n"
     ]
    },
    {
     "data": {
      "image/png": "[encoded data removed]",
      "text/plain": [
       "<Figure size 432x288 with 1 Axes>"
      ]
     },
     "metadata": {
      "needs_background": "light"
     },
     "output_type": "display_data"
    }
   ],
   "source": [
    "def make_meshgrid(X, y, h=.02):\n",
    "    X_min, X_max = X.min()-1, X.max() + 1\n",
    "    y_min, y_max = y.min()-1, y.max() + 1\n",
    "    xx, yy = np.meshgrid(np.arange(X_min, X_max, h), np.arange(y_min, y_max, h))\n",
    "    return xx, yy\n",
    "\n",
    "def plot_contours(ax, clf, xx, yy, **params):\n",
    "    Z = clf.predict(np.c_[xx.ravel(), yy.ravel()])\n",
    "    Z = Z.reshape(xx.shape)\n",
    "    out = ax.contourf(xx, yy, Z, **params)\n",
    "    return out\n",
    "\n",
    "# The classification SVC model\n",
    "model = svm.SVC(kernel=\"linear\")\n",
    "clf = model.fit(X, y)\n",
    "\n",
    "fig, ax = plt.subplots()\n",
    "\n",
    "# title for the plots\n",
    "title = ('Decision surface of linear SVC where C=1')\n",
    "# Set-up grid for plotting.\n",
    "\n",
    "X0, X1 = X.iloc[:, 0], X.iloc[:, 1]\n",
    "xx, yy = make_meshgrid(X0, X1)\n",
    "plot_contours(ax, clf, xx, yy, cmap=plt.cm.coolwarm, alpha=0.8)\n",
    "\n",
    "ax.scatter(X0, X1, c=y, cmap=plt.cm.coolwarm, s=20, edgecolors=\"k\")\n",
    "\n",
    "\n",
    "ax.set_xticks(())\n",
    "ax.set_yticks(())\n",
    "ax.set_title(title)\n",
    "plt.show()\n",
    "#plt.scatter(label_0.iloc[:, 0], label_0.iloc[:, 1], label='0')\n",
    "#plt.scatter(label_1.iloc[:, 0], label_1.iloc[:, 1], label='1')\n",
    "plt.legend()\n",
    "plt.xlabel('Label 0')\n",
    "plt.ylabel('Label 1');"
   ]
  },
  {
   "cell_type": "code",
   "execution_count": 196,
   "id": "89e2e25e",
   "metadata": {},
   "outputs": [],
   "source": [
    "# Plot the decision boundary\n",
    "X_scaled = svm_clf[\"scaler\"].transform(X)\n",
    "x_db = [X_scaled[:,0].min(), X_scaled[:,0].max()]\n",
    "beta0 = svm_clf[\"linear_svc\"].intercept_[0]\n",
    "beta1 = svm_clf[\"linear_svc\"].coef_[0][0]\n",
    "beta2 = svm_clf[\"linear_svc\"].coef_[0][1]\n",
    "y_db = - (beta0 + np.dot(beta1, x_db)) / beta2"
   ]
  },
  {
   "cell_type": "code",
   "execution_count": null,
   "id": "321a50f0",
   "metadata": {},
   "outputs": [],
   "source": []
  },
  {
   "cell_type": "code",
   "execution_count": 197,
   "id": "20cd0956",
   "metadata": {},
   "outputs": [
    {
     "data": {
      "image/png": "[encoded data removed]",
      "text/plain": [
       "<Figure size 432x288 with 1 Axes>"
      ]
     },
     "metadata": {
      "needs_background": "light"
     },
     "output_type": "display_data"
    }
   ],
   "source": [
    "plt.plot(x_db, y_db, label='Decision Boundary', c='r')\n",
    "\n",
    "\n",
    "# Plot the decision Boundary \n",
    "plt.scatter(label_0.iloc[:, 0], label_0.iloc[:, 1], label='0')\n",
    "plt.scatter(label_1.iloc[:, 0], label_1.iloc[:, 1], label='1')\n",
    "plt.legend()\n",
    "plt.xlabel('Label 0')\n",
    "plt.ylabel('Label 1');"
   ]
  },
  {
   "cell_type": "code",
   "execution_count": 198,
   "id": "d81c61fc",
   "metadata": {},
   "outputs": [
    {
     "name": "stderr",
     "output_type": "stream",
     "text": [
      "C:\\Users\\12563\\OneDrive\\New folder\\lib\\site-packages\\sklearn\\svm\\_base.py:985: ConvergenceWarning: Liblinear failed to converge, increase the number of iterations.\n",
      "  warnings.warn(\"Liblinear failed to converge, increase \"\n"
     ]
    },
    {
     "data": {
      "text/plain": [
       "array([0.])"
      ]
     },
     "execution_count": 198,
     "metadata": {},
     "output_type": "execute_result"
    }
   ],
   "source": [
    "# Now, we will build a linear SVM Classifier with C=100\n",
    "\n",
    "\n",
    "# Build linear svm classifier\n",
    "# Scaling is important for SVM. \n",
    "# Build a Pipeline that first scales data and then trains the model\n",
    "svm_clf = Pipeline([\n",
    "    (\"scaler\", StandardScaler()),\n",
    "    (\"linear_svc\", LinearSVC(C=100, loss=\"hinge\", random_state=36)),\n",
    "])\n",
    "\n",
    "# Train the model\n",
    "svm_clf.fit(X, y)\n",
    "# Make a prediction\n",
    "svm_clf.predict([[5.5, 1.7]])"
   ]
  },
  {
   "cell_type": "code",
   "execution_count": 214,
   "id": "a78229a9",
   "metadata": {},
   "outputs": [
    {
     "data": {
      "image/png": "[encoded data removed]",
      "text/plain": [
       "<Figure size 432x288 with 1 Axes>"
      ]
     },
     "metadata": {
      "needs_background": "light"
     },
     "output_type": "display_data"
    }
   ],
   "source": [
    "def plot_decision_boundary(model, label_1, label_0):\n",
    "    \"\"\"\n",
    "    Plot the decision boundary along with the data for problem 3\n",
    "    input:\n",
    "    model: the logistic regression model\n",
    "    accepted: dataframe of two columns that contains the two test scores for accepted microchips\n",
    "    rejected: dataframe of two columns that contains the two test scores for rejected microchips\n",
    "    \"\"\"\n",
    "    x_min, x_max = -0.1, 5\n",
    "    y_min, y_max = 0.5, 5\n",
    "    xx, yy = np.meshgrid(np.linspace(x_min, x_max, 200),\n",
    "                         np.linspace(y_min, y_max, 200))\n",
    "    Z = svm_clf.predict(np.c_[xx.ravel(), yy.ravel()])\n",
    "    Z = Z.reshape(xx.shape)\n",
    "    plt.contour(xx, yy, Z, cmap=plt.cm.Paired)\n",
    "    \n",
    "    plt.scatter(label_0.iloc[:, 0], label_0.iloc[:, 1], marker='x')\n",
    "    plt.scatter(label_1.iloc[:, 0], label_1.iloc[:, 1], marker='s')\n",
    "    plt.legend(['Label 0', 'Label 1'])\n",
    "    plt.xlabel('Label 0')\n",
    "    plt.ylabel('Label 1');\n",
    "plot_decision_boundary(svm_clf,label_1[[0,1]],label_0[[0,1]])    "
   ]
  },
  {
   "cell_type": "code",
   "execution_count": null,
   "id": "00eb8f22",
   "metadata": {},
   "outputs": [],
   "source": []
  },
  {
   "cell_type": "code",
   "execution_count": 104,
   "id": "2cd31174",
   "metadata": {},
   "outputs": [
    {
     "data": {
      "image/png": "[encoded data removed]",
      "text/plain": [
       "<Figure size 432x288 with 1 Axes>"
      ]
     },
     "metadata": {},
     "output_type": "display_data"
    },
    {
     "name": "stderr",
     "output_type": "stream",
     "text": [
      "No handles with labels found to put in legend.\n"
     ]
    },
    {
     "data": {
      "image/png": "[encoded data removed]",
      "text/plain": [
       "<Figure size 432x288 with 1 Axes>"
      ]
     },
     "metadata": {
      "needs_background": "light"
     },
     "output_type": "display_data"
    }
   ],
   "source": [
    "def make_meshgrid(X, y, h=.02):\n",
    "    X_min, X_max = X.min()-1, X.max() + 1\n",
    "    y_min, y_max = y.min()-1, y.max() + 1\n",
    "    xx, yy = np.meshgrid(np.arange(X_min, X_max, h), np.arange(y_min, y_max, h))\n",
    "    return xx, yy\n",
    "\n",
    "def plot_contours(ax, clf, xx, yy, **params):\n",
    "    Z = clf.predict(np.c_[xx.ravel(), yy.ravel()])\n",
    "    Z = Z.reshape(xx.shape)\n",
    "    out = ax.contourf(xx, yy, Z, **params)\n",
    "    return out\n",
    "\n",
    "# The classification SVC model\n",
    "model = svm.SVC(kernel=\"linear\",C=100)\n",
    "clf = model.fit(X, y)\n",
    "\n",
    "fig, ax = plt.subplots()\n",
    "\n",
    "# title for the plots\n",
    "title = ('Decision surface of linear SVC where C=100')\n",
    "# Set-up grid for plotting.\n",
    "\n",
    "X0, X1 = X.iloc[:, 0], X.iloc[:, 1]\n",
    "xx, yy = make_meshgrid(X0, X1)\n",
    "plot_contours(ax, clf, xx, yy, cmap=plt.cm.coolwarm, alpha=0.8)\n",
    "\n",
    "ax.scatter(X0, X1, c=y, cmap=plt.cm.coolwarm, s=20, edgecolors=\"k\")\n",
    "\n",
    "\n",
    "ax.set_xticks(())\n",
    "ax.set_yticks(())\n",
    "ax.set_title(title)\n",
    "plt.show()\n",
    "#plt.scatter(label_0.iloc[:, 0], label_0.iloc[:, 1], label='0')\n",
    "#plt.scatter(label_1.iloc[:, 0], label_1.iloc[:, 1], label='1')\n",
    "plt.legend()\n",
    "plt.xlabel('Label 0')\n",
    "plt.ylabel('Label 1');"
   ]
  },
  {
   "cell_type": "code",
   "execution_count": 210,
   "id": "cd716241",
   "metadata": {},
   "outputs": [
    {
     "name": "stderr",
     "output_type": "stream",
     "text": [
      "C:\\Users\\12563\\OneDrive\\New folder\\lib\\site-packages\\sklearn\\svm\\_base.py:985: ConvergenceWarning: Liblinear failed to converge, increase the number of iterations.\n",
      "  warnings.warn(\"Liblinear failed to converge, increase \"\n"
     ]
    },
    {
     "data": {
      "text/plain": [
       "array([0.])"
      ]
     },
     "execution_count": 210,
     "metadata": {},
     "output_type": "execute_result"
    }
   ],
   "source": [
    "# Now we will build a linear SVM Classifier with C=100\n",
    "\n",
    "\n",
    "# Build linear svm classifier\n",
    "# Scaling is important for SVM. \n",
    "# Build a Pipeline that first scales data and then trains the model\n",
    "svm_clf_100 = Pipeline([\n",
    "    (\"scaler\", StandardScaler()),\n",
    "    (\"linear_svc\", LinearSVC(C=100, loss=\"hinge\", random_state=36)),\n",
    "])\n",
    "\n",
    "# Train the model\n",
    "svm_clf_100.fit(X, y)\n",
    "# Make a prediction\n",
    "svm_clf_100.predict([[5.5, 1.7]])"
   ]
  },
  {
   "cell_type": "code",
   "execution_count": 211,
   "id": "cbd68db1",
   "metadata": {},
   "outputs": [
    {
     "data": {
      "image/png": "[encoded data removed]",
      "text/plain": [
       "<Figure size 432x288 with 1 Axes>"
      ]
     },
     "metadata": {
      "needs_background": "light"
     },
     "output_type": "display_data"
    }
   ],
   "source": [
    "def plot_decision_boundary(model, label_1, label_0):\n",
    "    \"\"\"\n",
    "    Plot the decision boundary along with the data for problem 3\n",
    "    input:\n",
    "    model: the logistic regression model\n",
    "    accepted: dataframe of two columns that contains the two test scores for accepted microchips\n",
    "    rejected: dataframe of two columns that contains the two test scores for rejected microchips\n",
    "    \"\"\"\n",
    "    x_min, x_max = -0.1, 5\n",
    "    y_min, y_max = 0.5, 5\n",
    "    xx, yy = np.meshgrid(np.linspace(x_min, x_max, 200),\n",
    "                         np.linspace(y_min, y_max, 200))\n",
    "    Z = svm_clf_100.predict(np.c_[xx.ravel(), yy.ravel()])\n",
    "    Z = Z.reshape(xx.shape)\n",
    "    plt.contour(xx, yy, Z, cmap=plt.cm.Paired)\n",
    "    \n",
    "    plt.scatter(label_0.iloc[:, 0], label_0.iloc[:, 1], marker='x')\n",
    "    plt.scatter(label_1.iloc[:, 0], label_1.iloc[:, 1], marker='s')\n",
    "    plt.legend(['Label 0', 'Label 1'])\n",
    "    plt.xlabel('Label 0')\n",
    "    plt.ylabel('Label 1');\n",
    "plot_decision_boundary(svm_clf_100,label_1[[0,1]],label_0[[0,1]])  "
   ]
  },
  {
   "cell_type": "markdown",
   "id": "4416952c",
   "metadata": {},
   "source": [
    "(c) Interpretate what leads to the different behavior of the two models (and thus the decision boundaries)."
   ]
  },
  {
   "cell_type": "markdown",
   "id": "e35c06a7",
   "metadata": {},
   "source": [
    "The $C$ paramter in SVM is the penalty paramter of the error term. For greater values of $C$, there is no way that the SVM optimizer can misclassify any single point. The difference in the $C$ value is what is leading to different behavior of the two models (and thus the decision boundaries). When $C=100$ it is a better fit for the model not misclassifing anything. "
   ]
  },
  {
   "cell_type": "markdown",
   "id": "quiet-moscow",
   "metadata": {},
   "source": [
    "## Problem 2"
   ]
  },
  {
   "cell_type": "markdown",
   "id": "covered-folks",
   "metadata": {},
   "source": [
    "Read in the dataset stored in 'HW3P2.txt'. The first two columns represent two features, and the last column is the labels (0 and 1).\n",
    "\n",
    "(a) Plot the training data, each class with a different color and marker. Is the dataset linearly separable?\n",
    "\n",
    "(b) Train a SVM using the RBF kernel. Adjust the parameter C to learn a decision boundary that performs well. Plot the decsion boundary."
   ]
  },
  {
   "cell_type": "code",
   "execution_count": 134,
   "id": "f1b982ee",
   "metadata": {},
   "outputs": [
    {
     "data": {
      "text/html": [
       "<div>\n",
       "<style scoped>\n",
       "    .dataframe tbody tr th:only-of-type {\n",
       "        vertical-align: middle;\n",
       "    }\n",
       "\n",
       "    .dataframe tbody tr th {\n",
       "        vertical-align: top;\n",
       "    }\n",
       "\n",
       "    .dataframe thead th {\n",
       "        text-align: right;\n",
       "    }\n",
       "</style>\n",
       "<table border=\"1\" class=\"dataframe\">\n",
       "  <thead>\n",
       "    <tr style=\"text-align: right;\">\n",
       "      <th></th>\n",
       "      <th>0</th>\n",
       "      <th>1</th>\n",
       "      <th>2</th>\n",
       "    </tr>\n",
       "  </thead>\n",
       "  <tbody>\n",
       "    <tr>\n",
       "      <th>858</th>\n",
       "      <td>0.994240</td>\n",
       "      <td>0.516667</td>\n",
       "      <td>1.0</td>\n",
       "    </tr>\n",
       "    <tr>\n",
       "      <th>859</th>\n",
       "      <td>0.964286</td>\n",
       "      <td>0.472807</td>\n",
       "      <td>1.0</td>\n",
       "    </tr>\n",
       "    <tr>\n",
       "      <th>860</th>\n",
       "      <td>0.975806</td>\n",
       "      <td>0.439474</td>\n",
       "      <td>1.0</td>\n",
       "    </tr>\n",
       "    <tr>\n",
       "      <th>861</th>\n",
       "      <td>0.989631</td>\n",
       "      <td>0.425439</td>\n",
       "      <td>1.0</td>\n",
       "    </tr>\n",
       "    <tr>\n",
       "      <th>862</th>\n",
       "      <td>0.996544</td>\n",
       "      <td>0.414912</td>\n",
       "      <td>1.0</td>\n",
       "    </tr>\n",
       "  </tbody>\n",
       "</table>\n",
       "</div>"
      ],
      "text/plain": [
       "            0         1    2\n",
       "858  0.994240  0.516667  1.0\n",
       "859  0.964286  0.472807  1.0\n",
       "860  0.975806  0.439474  1.0\n",
       "861  0.989631  0.425439  1.0\n",
       "862  0.996544  0.414912  1.0"
      ]
     },
     "execution_count": 134,
     "metadata": {},
     "output_type": "execute_result"
    }
   ],
   "source": [
    "# Read in the Data\n",
    "hw3p2_data = pd.read_csv('HW3P2.txt', header = None, sep = \" \")\n",
    "# See what the data looks like\n",
    "hw3p2_data.head()\n",
    "hw3p2_data.tail()"
   ]
  },
  {
   "cell_type": "code",
   "execution_count": 130,
   "id": "b162f808",
   "metadata": {},
   "outputs": [
    {
     "data": {
      "text/html": [
       "<div>\n",
       "<style scoped>\n",
       "    .dataframe tbody tr th:only-of-type {\n",
       "        vertical-align: middle;\n",
       "    }\n",
       "\n",
       "    .dataframe tbody tr th {\n",
       "        vertical-align: top;\n",
       "    }\n",
       "\n",
       "    .dataframe thead th {\n",
       "        text-align: right;\n",
       "    }\n",
       "</style>\n",
       "<table border=\"1\" class=\"dataframe\">\n",
       "  <thead>\n",
       "    <tr style=\"text-align: right;\">\n",
       "      <th></th>\n",
       "      <th>0</th>\n",
       "      <th>1</th>\n",
       "    </tr>\n",
       "  </thead>\n",
       "  <tbody>\n",
       "    <tr>\n",
       "      <th>858</th>\n",
       "      <td>0.994240</td>\n",
       "      <td>0.516667</td>\n",
       "    </tr>\n",
       "    <tr>\n",
       "      <th>859</th>\n",
       "      <td>0.964286</td>\n",
       "      <td>0.472807</td>\n",
       "    </tr>\n",
       "    <tr>\n",
       "      <th>860</th>\n",
       "      <td>0.975806</td>\n",
       "      <td>0.439474</td>\n",
       "    </tr>\n",
       "    <tr>\n",
       "      <th>861</th>\n",
       "      <td>0.989631</td>\n",
       "      <td>0.425439</td>\n",
       "    </tr>\n",
       "    <tr>\n",
       "      <th>862</th>\n",
       "      <td>0.996544</td>\n",
       "      <td>0.414912</td>\n",
       "    </tr>\n",
       "  </tbody>\n",
       "</table>\n",
       "</div>"
      ],
      "text/plain": [
       "            0         1\n",
       "858  0.994240  0.516667\n",
       "859  0.964286  0.472807\n",
       "860  0.975806  0.439474\n",
       "861  0.989631  0.425439\n",
       "862  0.996544  0.414912"
      ]
     },
     "execution_count": 130,
     "metadata": {},
     "output_type": "execute_result"
    }
   ],
   "source": [
    "#Feature Matrix\n",
    "X_1 = hw3p2_data.iloc[:,0:2]\n",
    "X_1.head()\n",
    "X_1.tail()"
   ]
  },
  {
   "cell_type": "code",
   "execution_count": 135,
   "id": "28d749f4",
   "metadata": {},
   "outputs": [
    {
     "data": {
      "text/plain": [
       "858    1.0\n",
       "859    1.0\n",
       "860    1.0\n",
       "861    1.0\n",
       "862    1.0\n",
       "Name: 2, dtype: float64"
      ]
     },
     "execution_count": 135,
     "metadata": {},
     "output_type": "execute_result"
    }
   ],
   "source": [
    "#Create target Vector\n",
    "y_1 = hw3p_data.iloc[:, 2]\n",
    "y_1.head()\n",
    "y_1.tail()"
   ]
  },
  {
   "cell_type": "code",
   "execution_count": 165,
   "id": "303294a0",
   "metadata": {},
   "outputs": [
    {
     "data": {
      "text/html": [
       "<div>\n",
       "<style scoped>\n",
       "    .dataframe tbody tr th:only-of-type {\n",
       "        vertical-align: middle;\n",
       "    }\n",
       "\n",
       "    .dataframe tbody tr th {\n",
       "        vertical-align: top;\n",
       "    }\n",
       "\n",
       "    .dataframe thead th {\n",
       "        text-align: right;\n",
       "    }\n",
       "</style>\n",
       "<table border=\"1\" class=\"dataframe\">\n",
       "  <thead>\n",
       "    <tr style=\"text-align: right;\">\n",
       "      <th></th>\n",
       "      <th>0</th>\n",
       "      <th>1</th>\n",
       "      <th>2</th>\n",
       "    </tr>\n",
       "  </thead>\n",
       "  <tbody>\n",
       "    <tr>\n",
       "      <th>193</th>\n",
       "      <td>0.372120</td>\n",
       "      <td>0.851608</td>\n",
       "      <td>0.0</td>\n",
       "    </tr>\n",
       "    <tr>\n",
       "      <th>194</th>\n",
       "      <td>0.351382</td>\n",
       "      <td>0.863304</td>\n",
       "      <td>0.0</td>\n",
       "    </tr>\n",
       "    <tr>\n",
       "      <th>195</th>\n",
       "      <td>0.305300</td>\n",
       "      <td>0.854532</td>\n",
       "      <td>0.0</td>\n",
       "    </tr>\n",
       "    <tr>\n",
       "      <th>196</th>\n",
       "      <td>0.323733</td>\n",
       "      <td>0.841374</td>\n",
       "      <td>0.0</td>\n",
       "    </tr>\n",
       "    <tr>\n",
       "      <th>197</th>\n",
       "      <td>0.289171</td>\n",
       "      <td>0.834064</td>\n",
       "      <td>0.0</td>\n",
       "    </tr>\n",
       "  </tbody>\n",
       "</table>\n",
       "</div>"
      ],
      "text/plain": [
       "            0         1    2\n",
       "193  0.372120  0.851608  0.0\n",
       "194  0.351382  0.863304  0.0\n",
       "195  0.305300  0.854532  0.0\n",
       "196  0.323733  0.841374  0.0\n",
       "197  0.289171  0.834064  0.0"
      ]
     },
     "execution_count": 165,
     "metadata": {},
     "output_type": "execute_result"
    }
   ],
   "source": [
    "# Create the labels for label \n",
    "\n",
    "label_0_1=hw3p2_data[hw3p2_data.iloc[:,2]==0]\n",
    "label_0_1.head()"
   ]
  },
  {
   "cell_type": "code",
   "execution_count": 166,
   "id": "dfac4c43",
   "metadata": {},
   "outputs": [
    {
     "data": {
      "text/html": [
       "<div>\n",
       "<style scoped>\n",
       "    .dataframe tbody tr th:only-of-type {\n",
       "        vertical-align: middle;\n",
       "    }\n",
       "\n",
       "    .dataframe tbody tr th {\n",
       "        vertical-align: top;\n",
       "    }\n",
       "\n",
       "    .dataframe thead th {\n",
       "        text-align: right;\n",
       "    }\n",
       "</style>\n",
       "<table border=\"1\" class=\"dataframe\">\n",
       "  <thead>\n",
       "    <tr style=\"text-align: right;\">\n",
       "      <th></th>\n",
       "      <th>0</th>\n",
       "      <th>1</th>\n",
       "      <th>2</th>\n",
       "    </tr>\n",
       "  </thead>\n",
       "  <tbody>\n",
       "    <tr>\n",
       "      <th>0</th>\n",
       "      <td>0.107143</td>\n",
       "      <td>0.603070</td>\n",
       "      <td>1.0</td>\n",
       "    </tr>\n",
       "    <tr>\n",
       "      <th>1</th>\n",
       "      <td>0.093318</td>\n",
       "      <td>0.649854</td>\n",
       "      <td>1.0</td>\n",
       "    </tr>\n",
       "    <tr>\n",
       "      <th>2</th>\n",
       "      <td>0.097926</td>\n",
       "      <td>0.705409</td>\n",
       "      <td>1.0</td>\n",
       "    </tr>\n",
       "    <tr>\n",
       "      <th>3</th>\n",
       "      <td>0.155530</td>\n",
       "      <td>0.784357</td>\n",
       "      <td>1.0</td>\n",
       "    </tr>\n",
       "    <tr>\n",
       "      <th>4</th>\n",
       "      <td>0.210829</td>\n",
       "      <td>0.866228</td>\n",
       "      <td>1.0</td>\n",
       "    </tr>\n",
       "  </tbody>\n",
       "</table>\n",
       "</div>"
      ],
      "text/plain": [
       "          0         1    2\n",
       "0  0.107143  0.603070  1.0\n",
       "1  0.093318  0.649854  1.0\n",
       "2  0.097926  0.705409  1.0\n",
       "3  0.155530  0.784357  1.0\n",
       "4  0.210829  0.866228  1.0"
      ]
     },
     "execution_count": 166,
     "metadata": {},
     "output_type": "execute_result"
    }
   ],
   "source": [
    "# Create Labels for label 1\n",
    "\n",
    "label_1_1=hw3p2_data[hw3p2_data.iloc[:,2]==1]\n",
    "label_1_1.head()"
   ]
  },
  {
   "cell_type": "code",
   "execution_count": 167,
   "id": "6dc7bb9b",
   "metadata": {},
   "outputs": [
    {
     "data": {
      "image/png": "[encoded data removed]",
      "text/plain": [
       "<Figure size 432x288 with 1 Axes>"
      ]
     },
     "metadata": {
      "needs_background": "light"
     },
     "output_type": "display_data"
    }
   ],
   "source": [
    "# Visualize the data\n",
    "plt.scatter(label_0_1.iloc[:, 0], label_0_1.iloc[:, 1], label='0')\n",
    "plt.scatter(label_1_1.iloc[:, 0], label_1_1.iloc[:, 1], label='1')\n",
    "plt.legend()\n",
    "plt.xlabel('Label 0')\n",
    "plt.ylabel('Label 1');"
   ]
  },
  {
   "cell_type": "markdown",
   "id": "fbc8dad5",
   "metadata": {},
   "source": [
    "The dataset is not linearly separable. "
   ]
  },
  {
   "cell_type": "markdown",
   "id": "d1344d55",
   "metadata": {},
   "source": [
    "(b) Train a SVM using the RBF kernel. Adjust the parameter C to learn a decision boundary that performs well. Plot the decsion boundary."
   ]
  },
  {
   "cell_type": "code",
   "execution_count": 168,
   "id": "f4198bd7",
   "metadata": {},
   "outputs": [
    {
     "data": {
      "text/plain": [
       "Pipeline(steps=[('scaler', StandardScaler()), ('svm_clf', SVC(C=1000))])"
      ]
     },
     "execution_count": 168,
     "metadata": {},
     "output_type": "execute_result"
    }
   ],
   "source": [
    "# coef0 is r in the polynomial kernel. We use the default gamma value\n",
    "kernel_clf = Pipeline([(\"scaler\", StandardScaler()),(\"svm_clf\", SVC(kernel=\"rbf\",  C=1000))])\n",
    "kernel_clf.fit(X_1, y_1)"
   ]
  },
  {
   "cell_type": "code",
   "execution_count": 181,
   "id": "1e5ad565",
   "metadata": {},
   "outputs": [
    {
     "data": {
      "image/png": "[encoded data removed]",
      "text/plain": [
       "<Figure size 432x288 with 1 Axes>"
      ]
     },
     "metadata": {
      "needs_background": "light"
     },
     "output_type": "display_data"
    }
   ],
   "source": [
    "def plot_decision_boundary(model, label_1_1, label_0_1):\n",
    "    \"\"\"\n",
    "    Plot the decision boundary along with the data for problem 3\n",
    "    input:\n",
    "    model: the logistic regression model\n",
    "    accepted: dataframe of two columns that contains the two test scores for accepted microchips\n",
    "    rejected: dataframe of two columns that contains the two test scores for rejected microchips\n",
    "    \"\"\"\n",
    "    x_min, x_max = -0.1, 1.5\n",
    "    y_min, y_max = 0, 1.1\n",
    "    xx, yy = np.meshgrid(np.linspace(x_min, x_max, 200),\n",
    "                         np.linspace(y_min, y_max, 200))\n",
    "    Z = kernel_clf.predict(np.c_[xx.ravel(), yy.ravel()])\n",
    "    Z = Z.reshape(xx.shape)\n",
    "    plt.contour(xx, yy, Z, cmap=plt.cm.Paired)\n",
    "    \n",
    "    plt.scatter(label_0_1.iloc[:, 0], label_0_1.iloc[:, 1], marker='x')\n",
    "    plt.scatter(label_1_1.iloc[:, 0], label_1_1.iloc[:, 1], marker='s')\n",
    "    plt.legend(['Label 0', 'Label 1'])\n",
    "    plt.xlabel('Label 0')\n",
    "    plt.ylabel('Label 1');\n",
    "plot_decision_boundary(kernel_clf,label_1_1[[0,1]],label_0_1[[0,1]])    "
   ]
  },
  {
   "cell_type": "markdown",
   "id": "53f099ef",
   "metadata": {},
   "source": [
    "## Problem 3"
   ]
  },
  {
   "cell_type": "markdown",
   "id": "turned-lending",
   "metadata": {},
   "source": [
    "We will investigate the wine quality problem. The data are stored in 'winequality-red.csv'. The description of the data can be found at https://archive.ics.uci.edu/ml/datasets/wine+quality. The last column of the data is the wine quality (0-10), and the other columns are features. Suppose we are intetered in classifying if the wine is good (quality greater than 5) or bad (quality less than or equal to 5). \n",
    "\n",
    "(a) Prepare the data. Get the feature matrix, target vector (good wines are labled 1, and 0 for bad wines). Also note that the data are separated by \";\". Split the data into training and testing parts using train_test_split (). Set the parameters so that $20\\%$ of the data are used as test data. Also set the random_state to 30, so that everyone gets the same splitting.\n",
    "\n",
    "(b) Build a logistic regression model for your training data. Use all default parameters, except setting solver to 'liblinear'. Also scale the data before building the model. Report the precision, recall and F1 for the testing data.\n",
    "\n",
    "(c) Repeat Part (b) with a support vector classifier (remember to scale data before training too). Use all default parameters.\n",
    "\n",
    "(d) Draw the ROC curves for both models from (b) and (c) on the same plot. Find the AUCs for both models too. Does one seem better than the other?"
   ]
  },
  {
   "cell_type": "markdown",
   "id": "edcbca11",
   "metadata": {},
   "source": [
    "(a) Prepare the data. Get the feature matrix, target vector (good wines are labled 1, and 0 for bad wines). Also note that the data are separated by \";\". Split the data into training and testing parts using train_test_split (). Set the parameters so that $20\\%$ of the data are used as test data. Also set the random_state to 30, so that everyone gets the same splitting."
   ]
  },
  {
   "cell_type": "code",
   "execution_count": 234,
   "id": "e47013b5",
   "metadata": {},
   "outputs": [
    {
     "data": {
      "text/html": [
       "<div>\n",
       "<style scoped>\n",
       "    .dataframe tbody tr th:only-of-type {\n",
       "        vertical-align: middle;\n",
       "    }\n",
       "\n",
       "    .dataframe tbody tr th {\n",
       "        vertical-align: top;\n",
       "    }\n",
       "\n",
       "    .dataframe thead th {\n",
       "        text-align: right;\n",
       "    }\n",
       "</style>\n",
       "<table border=\"1\" class=\"dataframe\">\n",
       "  <thead>\n",
       "    <tr style=\"text-align: right;\">\n",
       "      <th></th>\n",
       "      <th>fixed acidity</th>\n",
       "      <th>volatile acidity</th>\n",
       "      <th>citric acid</th>\n",
       "      <th>residual sugar</th>\n",
       "      <th>chlorides</th>\n",
       "      <th>free sulfur dioxide</th>\n",
       "      <th>total sulfur dioxide</th>\n",
       "      <th>density</th>\n",
       "      <th>pH</th>\n",
       "      <th>sulphates</th>\n",
       "      <th>alcohol</th>\n",
       "      <th>quality</th>\n",
       "    </tr>\n",
       "  </thead>\n",
       "  <tbody>\n",
       "    <tr>\n",
       "      <th>0</th>\n",
       "      <td>7.4</td>\n",
       "      <td>0.70</td>\n",
       "      <td>0.00</td>\n",
       "      <td>1.9</td>\n",
       "      <td>0.076</td>\n",
       "      <td>11.0</td>\n",
       "      <td>34.0</td>\n",
       "      <td>0.9978</td>\n",
       "      <td>3.51</td>\n",
       "      <td>0.56</td>\n",
       "      <td>9.4</td>\n",
       "      <td>5</td>\n",
       "    </tr>\n",
       "    <tr>\n",
       "      <th>1</th>\n",
       "      <td>7.8</td>\n",
       "      <td>0.88</td>\n",
       "      <td>0.00</td>\n",
       "      <td>2.6</td>\n",
       "      <td>0.098</td>\n",
       "      <td>25.0</td>\n",
       "      <td>67.0</td>\n",
       "      <td>0.9968</td>\n",
       "      <td>3.20</td>\n",
       "      <td>0.68</td>\n",
       "      <td>9.8</td>\n",
       "      <td>5</td>\n",
       "    </tr>\n",
       "    <tr>\n",
       "      <th>2</th>\n",
       "      <td>7.8</td>\n",
       "      <td>0.76</td>\n",
       "      <td>0.04</td>\n",
       "      <td>2.3</td>\n",
       "      <td>0.092</td>\n",
       "      <td>15.0</td>\n",
       "      <td>54.0</td>\n",
       "      <td>0.9970</td>\n",
       "      <td>3.26</td>\n",
       "      <td>0.65</td>\n",
       "      <td>9.8</td>\n",
       "      <td>5</td>\n",
       "    </tr>\n",
       "    <tr>\n",
       "      <th>3</th>\n",
       "      <td>11.2</td>\n",
       "      <td>0.28</td>\n",
       "      <td>0.56</td>\n",
       "      <td>1.9</td>\n",
       "      <td>0.075</td>\n",
       "      <td>17.0</td>\n",
       "      <td>60.0</td>\n",
       "      <td>0.9980</td>\n",
       "      <td>3.16</td>\n",
       "      <td>0.58</td>\n",
       "      <td>9.8</td>\n",
       "      <td>6</td>\n",
       "    </tr>\n",
       "    <tr>\n",
       "      <th>4</th>\n",
       "      <td>7.4</td>\n",
       "      <td>0.70</td>\n",
       "      <td>0.00</td>\n",
       "      <td>1.9</td>\n",
       "      <td>0.076</td>\n",
       "      <td>11.0</td>\n",
       "      <td>34.0</td>\n",
       "      <td>0.9978</td>\n",
       "      <td>3.51</td>\n",
       "      <td>0.56</td>\n",
       "      <td>9.4</td>\n",
       "      <td>5</td>\n",
       "    </tr>\n",
       "  </tbody>\n",
       "</table>\n",
       "</div>"
      ],
      "text/plain": [
       "   fixed acidity  volatile acidity  citric acid  residual sugar  chlorides  \\\n",
       "0            7.4              0.70         0.00             1.9      0.076   \n",
       "1            7.8              0.88         0.00             2.6      0.098   \n",
       "2            7.8              0.76         0.04             2.3      0.092   \n",
       "3           11.2              0.28         0.56             1.9      0.075   \n",
       "4            7.4              0.70         0.00             1.9      0.076   \n",
       "\n",
       "   free sulfur dioxide  total sulfur dioxide  density    pH  sulphates  \\\n",
       "0                 11.0                  34.0   0.9978  3.51       0.56   \n",
       "1                 25.0                  67.0   0.9968  3.20       0.68   \n",
       "2                 15.0                  54.0   0.9970  3.26       0.65   \n",
       "3                 17.0                  60.0   0.9980  3.16       0.58   \n",
       "4                 11.0                  34.0   0.9978  3.51       0.56   \n",
       "\n",
       "   alcohol  quality  \n",
       "0      9.4        5  \n",
       "1      9.8        5  \n",
       "2      9.8        5  \n",
       "3      9.8        6  \n",
       "4      9.4        5  "
      ]
     },
     "execution_count": 234,
     "metadata": {},
     "output_type": "execute_result"
    }
   ],
   "source": [
    "# Reading in the data:\n",
    "wine_data=pd.read_csv('winequality-red.csv', sep=\";\", header=0)\n",
    "wine_data.head()"
   ]
  },
  {
   "cell_type": "code",
   "execution_count": 235,
   "id": "c5649b1d",
   "metadata": {},
   "outputs": [
    {
     "data": {
      "text/html": [
       "<div>\n",
       "<style scoped>\n",
       "    .dataframe tbody tr th:only-of-type {\n",
       "        vertical-align: middle;\n",
       "    }\n",
       "\n",
       "    .dataframe tbody tr th {\n",
       "        vertical-align: top;\n",
       "    }\n",
       "\n",
       "    .dataframe thead th {\n",
       "        text-align: right;\n",
       "    }\n",
       "</style>\n",
       "<table border=\"1\" class=\"dataframe\">\n",
       "  <thead>\n",
       "    <tr style=\"text-align: right;\">\n",
       "      <th></th>\n",
       "      <th>fixed acidity</th>\n",
       "      <th>volatile acidity</th>\n",
       "      <th>citric acid</th>\n",
       "      <th>residual sugar</th>\n",
       "      <th>chlorides</th>\n",
       "      <th>free sulfur dioxide</th>\n",
       "      <th>total sulfur dioxide</th>\n",
       "      <th>density</th>\n",
       "      <th>pH</th>\n",
       "      <th>sulphates</th>\n",
       "      <th>alcohol</th>\n",
       "    </tr>\n",
       "  </thead>\n",
       "  <tbody>\n",
       "    <tr>\n",
       "      <th>0</th>\n",
       "      <td>7.4</td>\n",
       "      <td>0.70</td>\n",
       "      <td>0.00</td>\n",
       "      <td>1.9</td>\n",
       "      <td>0.076</td>\n",
       "      <td>11.0</td>\n",
       "      <td>34.0</td>\n",
       "      <td>0.9978</td>\n",
       "      <td>3.51</td>\n",
       "      <td>0.56</td>\n",
       "      <td>9.4</td>\n",
       "    </tr>\n",
       "    <tr>\n",
       "      <th>1</th>\n",
       "      <td>7.8</td>\n",
       "      <td>0.88</td>\n",
       "      <td>0.00</td>\n",
       "      <td>2.6</td>\n",
       "      <td>0.098</td>\n",
       "      <td>25.0</td>\n",
       "      <td>67.0</td>\n",
       "      <td>0.9968</td>\n",
       "      <td>3.20</td>\n",
       "      <td>0.68</td>\n",
       "      <td>9.8</td>\n",
       "    </tr>\n",
       "    <tr>\n",
       "      <th>2</th>\n",
       "      <td>7.8</td>\n",
       "      <td>0.76</td>\n",
       "      <td>0.04</td>\n",
       "      <td>2.3</td>\n",
       "      <td>0.092</td>\n",
       "      <td>15.0</td>\n",
       "      <td>54.0</td>\n",
       "      <td>0.9970</td>\n",
       "      <td>3.26</td>\n",
       "      <td>0.65</td>\n",
       "      <td>9.8</td>\n",
       "    </tr>\n",
       "    <tr>\n",
       "      <th>3</th>\n",
       "      <td>11.2</td>\n",
       "      <td>0.28</td>\n",
       "      <td>0.56</td>\n",
       "      <td>1.9</td>\n",
       "      <td>0.075</td>\n",
       "      <td>17.0</td>\n",
       "      <td>60.0</td>\n",
       "      <td>0.9980</td>\n",
       "      <td>3.16</td>\n",
       "      <td>0.58</td>\n",
       "      <td>9.8</td>\n",
       "    </tr>\n",
       "    <tr>\n",
       "      <th>4</th>\n",
       "      <td>7.4</td>\n",
       "      <td>0.70</td>\n",
       "      <td>0.00</td>\n",
       "      <td>1.9</td>\n",
       "      <td>0.076</td>\n",
       "      <td>11.0</td>\n",
       "      <td>34.0</td>\n",
       "      <td>0.9978</td>\n",
       "      <td>3.51</td>\n",
       "      <td>0.56</td>\n",
       "      <td>9.4</td>\n",
       "    </tr>\n",
       "  </tbody>\n",
       "</table>\n",
       "</div>"
      ],
      "text/plain": [
       "   fixed acidity  volatile acidity  citric acid  residual sugar  chlorides  \\\n",
       "0            7.4              0.70         0.00             1.9      0.076   \n",
       "1            7.8              0.88         0.00             2.6      0.098   \n",
       "2            7.8              0.76         0.04             2.3      0.092   \n",
       "3           11.2              0.28         0.56             1.9      0.075   \n",
       "4            7.4              0.70         0.00             1.9      0.076   \n",
       "\n",
       "   free sulfur dioxide  total sulfur dioxide  density    pH  sulphates  \\\n",
       "0                 11.0                  34.0   0.9978  3.51       0.56   \n",
       "1                 25.0                  67.0   0.9968  3.20       0.68   \n",
       "2                 15.0                  54.0   0.9970  3.26       0.65   \n",
       "3                 17.0                  60.0   0.9980  3.16       0.58   \n",
       "4                 11.0                  34.0   0.9978  3.51       0.56   \n",
       "\n",
       "   alcohol  \n",
       "0      9.4  \n",
       "1      9.8  \n",
       "2      9.8  \n",
       "3      9.8  \n",
       "4      9.4  "
      ]
     },
     "execution_count": 235,
     "metadata": {},
     "output_type": "execute_result"
    }
   ],
   "source": [
    "#Feature Matrix\n",
    "X_wine = wine_data.iloc[:,0:11]\n",
    "X_wine.head()"
   ]
  },
  {
   "cell_type": "code",
   "execution_count": 236,
   "id": "08be4eed",
   "metadata": {},
   "outputs": [
    {
     "data": {
      "text/plain": [
       "0    5\n",
       "1    5\n",
       "2    5\n",
       "3    6\n",
       "4    5\n",
       "Name: quality, dtype: int64"
      ]
     },
     "execution_count": 236,
     "metadata": {},
     "output_type": "execute_result"
    }
   ],
   "source": [
    "#Target Matrix\n",
    "y_wine = wine_data.iloc[:,-1]\n",
    "y_wine.head()"
   ]
  },
  {
   "cell_type": "code",
   "execution_count": 239,
   "id": "e82739bb",
   "metadata": {},
   "outputs": [
    {
     "name": "stderr",
     "output_type": "stream",
     "text": [
      "C:\\Users\\12563\\AppData\\Local\\Temp/ipykernel_24056/3145113872.py:1: DeprecationWarning: `np.int` is a deprecated alias for the builtin `int`. To silence this warning, use `int` by itself. Doing this will not modify any behavior and is safe. When replacing `np.int`, you may wish to use e.g. `np.int64` or `np.int32` to specify the precision. If you wish to review your current use, check the release note link for additional information.\n",
      "Deprecated in NumPy 1.20; for more details and guidance: https://numpy.org/devdocs/release/1.20.0-notes.html#deprecations\n",
      "  y_label = (wine_data[\"quality\"] > 5).astype(np.int)\n"
     ]
    }
   ],
   "source": [
    "#creating labels for the wine 1 if quality is 6-10 & 0 else\n",
    "y_label = (wine_data[\"quality\"] > 5).astype(np.int)"
   ]
  },
  {
   "cell_type": "code",
   "execution_count": 240,
   "id": "94926ad6",
   "metadata": {},
   "outputs": [
    {
     "data": {
      "text/plain": [
       "0    0\n",
       "1    0\n",
       "2    0\n",
       "3    1\n",
       "4    0\n",
       "Name: quality, dtype: int32"
      ]
     },
     "execution_count": 240,
     "metadata": {},
     "output_type": "execute_result"
    }
   ],
   "source": [
    "y_label.head()"
   ]
  },
  {
   "cell_type": "code",
   "execution_count": 244,
   "id": "01a51c37",
   "metadata": {},
   "outputs": [],
   "source": [
    "# Now we will split the data into training and testing parts\n",
    "\n",
    "# Divide the data. 20% of the data are randomly chosen as test data\n",
    "X_train, X_test, y_train, y_test = train_test_split(X_wine, y_label, test_size=0.2, random_state=30)"
   ]
  },
  {
   "cell_type": "code",
   "execution_count": 250,
   "id": "f7350dce",
   "metadata": {},
   "outputs": [
    {
     "data": {
      "text/plain": [
       "Pipeline(steps=[('scaler', StandardScaler()),\n",
       "                ('log_reg', LogisticRegression(solver='liblinear'))])"
      ]
     },
     "execution_count": 250,
     "metadata": {},
     "output_type": "execute_result"
    }
   ],
   "source": [
    "# Build a logistic Regression model for your training data. \n",
    "# Use all default parameters, except setting solver to 'liblinear'\n",
    "# Also scale the data before building the model.\n",
    "# Report the precision, recall, and F1 for the testing data\n",
    "\n",
    "log_reg = Pipeline([\n",
    "    (\"scaler\", StandardScaler()),\n",
    "    (\"log_reg\", LogisticRegression(solver = 'liblinear')),\n",
    "])\n",
    "\n",
    "# Training the model\n",
    "log_reg.fit(X_train, y_train)\n",
    "\n"
   ]
  },
  {
   "cell_type": "code",
   "execution_count": 262,
   "id": "590c8a71",
   "metadata": {},
   "outputs": [
    {
     "name": "stdout",
     "output_type": "stream",
     "text": [
      "[1 0 1 0 1 0 0 0 0 0 0 1 0 1 1 1 0 0 1 1 0 1 1 0 1 1 1 0 0 1 0 1 1 1 1 1 1\n",
      " 0 0 1 0 1 1 0 0 1 1 1 0 0 1 1 0 0 0 1 1 0 0 0 0 0 1 1 1 1 0 0 0 1 0 0 0 1\n",
      " 1 0 1 0 1 1 1 1 1 1 0 0 0 1 0 1 0 1 0 1 0 1 0 1 0 0 0 0 0 1 1 1 1 0 1 0 0\n",
      " 0 0 1 1 1 1 1 0 1 1 1 1 1 1 0 1 1 1 0 0 0 0 0 1 1 1 0 1 1 1 0 0 0 1 1 0 0\n",
      " 1 1 0 0 0 1 0 1 1 1 0 0 0 1 0 0 1 0 1 0 1 1 0 1 1 1 1 1 0 0 1 1 0 1 1 0 1\n",
      " 0 1 1 0 1 0 1 1 1 1 0 1 1 0 1 1 0 0 0 1 1 1 1 1 1 1 0 1 0 0 0 0 1 1 1 1 1\n",
      " 1 1 0 1 0 0 1 0 0 0 1 0 0 0 0 1 1 1 0 0 1 1 1 1 1 1 1 0 0 1 0 1 1 1 1 0 1\n",
      " 1 0 0 1 1 0 1 1 0 1 1 1 0 1 0 0 0 1 1 0 1 0 0 0 0 1 0 1 1 1 1 0 0 1 1 1 0\n",
      " 0 1 1 0 0 1 1 0 1 0 1 1 1 1 0 0 1 1 1 1 1 1 0 0]\n"
     ]
    }
   ],
   "source": [
    "# Predict for the X_test data\n",
    "y_test_pred = log_reg.predict(X_test)\n",
    "print(y_test_pred)"
   ]
  },
  {
   "cell_type": "code",
   "execution_count": 263,
   "id": "59bf94a5",
   "metadata": {},
   "outputs": [
    {
     "name": "stdout",
     "output_type": "stream",
     "text": [
      "The precision score is the following: 0.7653631284916201\n",
      "\n",
      "The Recall score is the following: 0.8058823529411765\n",
      "\n",
      "The F1 score is the following: 0.7851002865329514\n"
     ]
    }
   ],
   "source": [
    "print( 'The precision score is the following:', precision_score(y_test, y_test_pred))\n",
    "print()\n",
    "\n",
    "print( 'The Recall score is the following:', recall_score(y_test, y_test_pred))\n",
    "print()\n",
    "print( 'The F1 score is the following:', f1_score(y_test, y_test_pred))"
   ]
  },
  {
   "cell_type": "code",
   "execution_count": 264,
   "id": "7fef9a33",
   "metadata": {},
   "outputs": [
    {
     "data": {
      "text/plain": [
       "Pipeline(steps=[('scaler', StandardScaler()), ('svm_clf', SVC())])"
      ]
     },
     "execution_count": 264,
     "metadata": {},
     "output_type": "execute_result"
    }
   ],
   "source": [
    "# Repeat part (b) with a support vector classifier (remember to scale data before training too).\n",
    "# Use all default parameters\n",
    "\n",
    "# Build a logistic Regression model for your training data. \n",
    "# Use all default parameters, except setting solver to 'liblinear'\n",
    "# Also scale the data before building the model.\n",
    "# Report the precision, recall, and F1 for the testing data\n",
    "\n",
    "svm_clf = Pipeline([\n",
    "    (\"scaler\", StandardScaler()),\n",
    "    (\"svm_clf\", SVC()),\n",
    "])\n",
    "\n",
    "# Training the model\n",
    "svm_clf.fit(X_train, y_train)"
   ]
  },
  {
   "cell_type": "code",
   "execution_count": 268,
   "id": "b46c0650",
   "metadata": {},
   "outputs": [
    {
     "name": "stdout",
     "output_type": "stream",
     "text": [
      "[1 0 1 0 1 0 1 0 0 0 0 1 0 1 1 1 0 0 1 1 0 1 1 0 1 1 1 0 1 1 0 1 1 1 0 1 1\n",
      " 1 0 1 0 1 1 0 0 1 1 1 0 1 1 1 1 0 0 0 1 0 0 0 0 0 1 1 1 0 0 1 0 0 0 0 0 1\n",
      " 1 1 1 0 1 1 1 1 1 1 0 0 0 1 0 1 0 1 0 1 0 1 0 1 0 0 0 0 0 1 1 1 1 0 1 0 0\n",
      " 0 0 1 1 1 1 1 0 1 1 1 1 1 1 0 1 1 1 0 0 0 1 0 1 1 1 0 1 1 1 0 1 0 1 0 0 0\n",
      " 1 1 0 0 0 1 0 1 1 1 0 0 0 1 0 0 0 0 0 0 1 1 0 1 1 1 1 1 0 0 1 1 0 1 1 0 1\n",
      " 0 1 1 0 1 0 1 1 1 1 0 1 1 0 1 1 0 1 0 1 1 1 1 1 1 1 1 1 0 0 0 1 1 1 1 1 1\n",
      " 1 1 0 1 1 0 1 0 0 1 1 1 1 0 0 1 1 1 0 0 1 1 1 1 1 1 1 0 0 1 0 1 1 1 1 1 1\n",
      " 1 0 0 1 1 0 1 1 0 1 1 0 0 1 1 0 0 1 1 0 1 1 0 0 0 0 0 1 1 0 1 0 0 1 1 1 0\n",
      " 0 1 1 1 0 1 1 0 1 0 1 1 1 1 0 0 1 1 1 1 1 1 0 0]\n"
     ]
    }
   ],
   "source": [
    "# Predict for the X_test data\n",
    "y_test_pred_svm_clf = svm_clf.predict(X_test)\n",
    "print(y_test_pred_svm_clf)"
   ]
  },
  {
   "cell_type": "code",
   "execution_count": 269,
   "id": "534295d0",
   "metadata": {},
   "outputs": [
    {
     "name": "stdout",
     "output_type": "stream",
     "text": [
      "The precision score is the following: 0.7777777777777778\n",
      "\n",
      "The Recall score is the following: 0.8647058823529412\n",
      "\n",
      "The F1 score is the following: 0.818941504178273\n"
     ]
    }
   ],
   "source": [
    "print( 'The precision score is the following:', precision_score(y_test, y_test_pred_svm_clf))\n",
    "print()\n",
    "\n",
    "print( 'The Recall score is the following:', recall_score(y_test, y_test_pred_svm_clf))\n",
    "print()\n",
    "print( 'The F1 score is the following:', f1_score(y_test, y_test_pred_svm_clf))"
   ]
  },
  {
   "cell_type": "code",
   "execution_count": 288,
   "id": "b03f9a83",
   "metadata": {},
   "outputs": [
    {
     "name": "stdout",
     "output_type": "stream",
     "text": [
      "The area under the curve (AUC) is the following: 0.8351764705882353\n",
      "The area under the curve (AUC) is the following: 0.8536862745098039\n"
     ]
    },
    {
     "data": {
      "image/png": "[encoded data removed]",
      "text/plain": [
       "<Figure size 432x288 with 1 Axes>"
      ]
     },
     "metadata": {
      "needs_background": "light"
     },
     "output_type": "display_data"
    }
   ],
   "source": [
    "# (d) Draw the ROC curves for both models from (b) and (c) on the same plot.\n",
    "# Find the AUCs for both models too. Does one seem better than the other?\n",
    "\n",
    "# Now we plot the ROC curve for the model from (b), the logistic regression.\n",
    "\n",
    "\n",
    "y_test_scores_log_reg = log_reg.decision_function(X_test)\n",
    "fpr, tpr, thresholds = roc_curve(y_test, y_test_scores_log_reg)\n",
    "plt.plot(fpr, tpr, linewidth=2)\n",
    "plt.plot([0, 1], [0, 1], 'k--') # dashed diagonal\n",
    "plt.xlabel('False positive Rate')\n",
    "plt.ylabel('True Positive Rate (Recall)');\n",
    "\n",
    "# Finally we find the area under the curve (AUC):\n",
    "print('The area under the curve (AUC) is the following:', roc_auc_score(y_test, y_test_scores_log_reg))\n",
    "\n",
    "\n",
    "# Now we plot the ROC curve for the model from (c).\n",
    "\n",
    "\n",
    "y_test_scores_c = svm_clf.decision_function(X_test)\n",
    "fpr, tpr, thresholds = roc_curve(y_test, y_test_scores_c)\n",
    "plt.plot(fpr, tpr, linewidth=2)\n",
    "plt.plot([0, 1], [0, 1], 'k--') # dashed diagonal\n",
    "plt.xlabel('False positive Rate')\n",
    "plt.ylabel('True Positive Rate (Recall)');\n",
    "\n",
    "# Finally we find the area under the curve (AUC):\n",
    "print('The area under the curve (AUC) is the following:', roc_auc_score(y_test, y_test_scores))"
   ]
  },
  {
   "cell_type": "code",
   "execution_count": 287,
   "id": "98734e0a",
   "metadata": {},
   "outputs": [
    {
     "name": "stdout",
     "output_type": "stream",
     "text": [
      "The area under the curve (AUC) is the following: 0.8536862745098039\n"
     ]
    },
    {
     "data": {
      "image/png": "[encoded data removed]",
      "text/plain": [
       "<Figure size 432x288 with 1 Axes>"
      ]
     },
     "metadata": {
      "needs_background": "light"
     },
     "output_type": "display_data"
    }
   ],
   "source": [
    "# Now we plot the ROC curve for the model from (c).\n",
    "\n",
    "\n",
    "y_test_scores_c = svm_clf.decision_function(X_test)\n",
    "fpr, tpr, thresholds = roc_curve(y_test, y_test_scores_c)\n",
    "plt.plot(fpr, tpr, linewidth=2)\n",
    "plt.plot([0, 1], [0, 1], 'k--') # dashed diagonal\n",
    "plt.xlabel('False positive Rate')\n",
    "plt.ylabel('True Positive Rate (Recall)');\n",
    "\n",
    "# Finally we find the area under the curve (AUC):\n",
    "print('The area under the curve (AUC) is the following:', roc_auc_score(y_test, y_test_scores))"
   ]
  },
  {
   "cell_type": "markdown",
   "id": "d0c5d645",
   "metadata": {},
   "source": [
    "The Roc Curve for the support vector classifier model (from part c) seems to be a bit better. Also the AUC score for the support vector classifier model (from part c) was a bit higher as well. "
   ]
  }
 ],
 "metadata": {
  "kernelspec": {
   "display_name": "Python 3 (ipykernel)",
   "language": "python",
   "name": "python3"
  },
  "language_info": {
   "codemirror_mode": {
    "name": "ipython",
    "version": 3
   },
   "file_extension": ".py",
   "mimetype": "text/x-python",
   "name": "python",
   "nbconvert_exporter": "python",
   "pygments_lexer": "ipython3",
   "version": "3.9.7"
  },
  "latex_envs": {
   "LaTeX_envs_menu_present": true,
   "autoclose": false,
   "autocomplete": true,
   "bibliofile": "biblio.bib",
   "cite_by": "apalike",
   "current_citInitial": 1,
   "eqLabelWithNumbers": true,
   "eqNumInitial": 1,
   "hotkeys": {
    "equation": "Ctrl-E",
    "itemize": "Ctrl-I"
   },
   "labels_anchors": false,
   "latex_user_defs": false,
   "report_style_numbering": false,
   "user_envs_cfg": false
  },
  "toc": {
   "base_numbering": 1,
   "nav_menu": {},
   "number_sections": true,
   "sideBar": true,
   "skip_h1_title": false,
   "title_cell": "Table of Contents",
   "title_sidebar": "Contents",
   "toc_cell": false,
   "toc_position": {},
   "toc_section_display": true,
   "toc_window_display": false
  }
 },
 "nbformat": 4,
 "nbformat_minor": 5
}
