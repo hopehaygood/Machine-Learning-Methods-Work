{
 "cells": [
  {
   "cell_type": "markdown",
   "id": "organized-stadium",
   "metadata": {},
   "source": [
    "# HW 4 Programming Part"
   ]
  },
  {
   "cell_type": "markdown",
   "id": "usual-upper",
   "metadata": {},
   "source": [
    "## Problem 1"
   ]
  },
  {
   "cell_type": "markdown",
   "id": "driving-there",
   "metadata": {},
   "source": [
    "Consider the problem of predicting if a letter is C or G. The data are stored in letterCG. There are 17 column: the first column is the target label 'C' or 'G', and the rest of the 16 columns are input features.\n",
    "1.\tlettr\tcapital letter\t(C or G)\n",
    "2.\tx-box\thorizontal position of box\t(integer)\n",
    "3.\ty-box\tvertical position of box\t(integer)\n",
    "4.\twidth\twidth of box\t\t\t(integer)\n",
    "5.\thigh \theight of box\t\t\t(integer)\n",
    "6.\tonpix\ttotal # on pixels\t\t(integer)\n",
    "7.\tx-bar\tmean x of on pixels in box\t(integer)\n",
    "8.\ty-bar\tmean y of on pixels in box\t(integer)\n",
    "9.\tx2bar\tmean x variance\t\t\t(integer)\n",
    "10.\ty2bar\tmean y variance\t\t\t(integer)\n",
    "11.\txybar\tmean x y correlation\t\t(integer)\n",
    "12.\tx2ybr\tmean of x * x * y\t\t(integer)\n",
    "13.\txy2br\tmean of x * y * y\t\t(integer)\n",
    "14.\tx-ege\tmean edge count left to right\t(integer)\n",
    "15.\txegvy\tcorrelation of x-ege with y\t(integer)\n",
    "16.\ty-ege\tmean edge count bottom to top\t(integer)\n",
    "17.\tyegvx\tcorrelation of y-ege with x\t(integer)\n",
    "\n",
    "Split the data into training $70\\%$ and validation $30\\%$ parts, with a random state of $30$. \n",
    "1. Implement the Adaboost algorithm with decision tree with max depth=1 as the base classifier and use learning rate=0.2. Run Adaboost for 200 rounds (M=200). \n",
    "\n",
    "2. Use the staged_score() function (check the function description) on the validation data to get the accuracy score to find the optimal $M$. The final Adaboost ensemble uses the optimal $M$. \n",
    "\n",
    "3. Report the accuracy of prediction with the final ensemble for the validation instances.\n",
    "\n",
    "4. Make a plot of the accuracy score vs ensemble size/rounds (M) for the training data. Make the same plot for the validation data on the same figure. What do you find?\n",
    "\n",
    "(Hint: when you read the data using pandas.read_csv(), you need to set delim_whitespace to True)"
   ]
  },
  {
   "cell_type": "code",
   "execution_count": 2,
   "id": "081d1909",
   "metadata": {},
   "outputs": [],
   "source": [
    "import numpy as np\n",
    "import pandas as pd\n",
    "from sklearn import datasets\n",
    "from sklearn.preprocessing import StandardScaler\n",
    "from sklearn.svm import LinearSVC\n",
    "from sklearn.pipeline import Pipeline\n",
    "from sklearn.datasets import make_moons\n",
    "from sklearn.preprocessing import PolynomialFeatures\n",
    "from sklearn.svm import SVC\n",
    "from sklearn.model_selection import train_test_split\n",
    "from sklearn.ensemble import AdaBoostClassifier\n",
    "from sklearn.tree import DecisionTreeRegressor\n",
    "from sklearn.tree import DecisionTreeClassifier"
   ]
  },
  {
   "cell_type": "code",
   "execution_count": 3,
   "id": "8a13ddbe",
   "metadata": {},
   "outputs": [],
   "source": [
    "# Reading in the data:\n",
    "hw4_data= pd.read_csv('letterCG.data', delim_whitespace = True, header = 0)"
   ]
  },
  {
   "cell_type": "code",
   "execution_count": 4,
   "id": "6a26961e",
   "metadata": {},
   "outputs": [
    {
     "data": {
      "text/html": [
       "<div>\n",
       "<style scoped>\n",
       "    .dataframe tbody tr th:only-of-type {\n",
       "        vertical-align: middle;\n",
       "    }\n",
       "\n",
       "    .dataframe tbody tr th {\n",
       "        vertical-align: top;\n",
       "    }\n",
       "\n",
       "    .dataframe thead th {\n",
       "        text-align: right;\n",
       "    }\n",
       "</style>\n",
       "<table border=\"1\" class=\"dataframe\">\n",
       "  <thead>\n",
       "    <tr style=\"text-align: right;\">\n",
       "      <th></th>\n",
       "      <th>x-box</th>\n",
       "      <th>y-box</th>\n",
       "      <th>width</th>\n",
       "      <th>high</th>\n",
       "      <th>onpix</th>\n",
       "      <th>x-bar</th>\n",
       "      <th>y-bar</th>\n",
       "      <th>x2bar</th>\n",
       "      <th>y2bar</th>\n",
       "      <th>xybar</th>\n",
       "      <th>x2ybr</th>\n",
       "      <th>xy2br</th>\n",
       "      <th>x-ege</th>\n",
       "      <th>xegvy</th>\n",
       "      <th>y-ege</th>\n",
       "      <th>yegvx</th>\n",
       "    </tr>\n",
       "  </thead>\n",
       "  <tbody>\n",
       "    <tr>\n",
       "      <th>0</th>\n",
       "      <td>4</td>\n",
       "      <td>10</td>\n",
       "      <td>5</td>\n",
       "      <td>8</td>\n",
       "      <td>2</td>\n",
       "      <td>5</td>\n",
       "      <td>7</td>\n",
       "      <td>7</td>\n",
       "      <td>10</td>\n",
       "      <td>7</td>\n",
       "      <td>6</td>\n",
       "      <td>13</td>\n",
       "      <td>1</td>\n",
       "      <td>8</td>\n",
       "      <td>4</td>\n",
       "      <td>9</td>\n",
       "    </tr>\n",
       "    <tr>\n",
       "      <th>1</th>\n",
       "      <td>3</td>\n",
       "      <td>5</td>\n",
       "      <td>4</td>\n",
       "      <td>4</td>\n",
       "      <td>2</td>\n",
       "      <td>4</td>\n",
       "      <td>8</td>\n",
       "      <td>5</td>\n",
       "      <td>7</td>\n",
       "      <td>12</td>\n",
       "      <td>9</td>\n",
       "      <td>11</td>\n",
       "      <td>1</td>\n",
       "      <td>10</td>\n",
       "      <td>2</td>\n",
       "      <td>7</td>\n",
       "    </tr>\n",
       "    <tr>\n",
       "      <th>2</th>\n",
       "      <td>5</td>\n",
       "      <td>10</td>\n",
       "      <td>6</td>\n",
       "      <td>7</td>\n",
       "      <td>3</td>\n",
       "      <td>8</td>\n",
       "      <td>7</td>\n",
       "      <td>8</td>\n",
       "      <td>8</td>\n",
       "      <td>6</td>\n",
       "      <td>7</td>\n",
       "      <td>9</td>\n",
       "      <td>2</td>\n",
       "      <td>7</td>\n",
       "      <td>5</td>\n",
       "      <td>10</td>\n",
       "    </tr>\n",
       "    <tr>\n",
       "      <th>3</th>\n",
       "      <td>5</td>\n",
       "      <td>9</td>\n",
       "      <td>6</td>\n",
       "      <td>7</td>\n",
       "      <td>4</td>\n",
       "      <td>3</td>\n",
       "      <td>8</td>\n",
       "      <td>6</td>\n",
       "      <td>7</td>\n",
       "      <td>12</td>\n",
       "      <td>10</td>\n",
       "      <td>13</td>\n",
       "      <td>1</td>\n",
       "      <td>9</td>\n",
       "      <td>3</td>\n",
       "      <td>7</td>\n",
       "    </tr>\n",
       "    <tr>\n",
       "      <th>4</th>\n",
       "      <td>4</td>\n",
       "      <td>8</td>\n",
       "      <td>5</td>\n",
       "      <td>6</td>\n",
       "      <td>3</td>\n",
       "      <td>6</td>\n",
       "      <td>6</td>\n",
       "      <td>7</td>\n",
       "      <td>6</td>\n",
       "      <td>10</td>\n",
       "      <td>7</td>\n",
       "      <td>12</td>\n",
       "      <td>2</td>\n",
       "      <td>9</td>\n",
       "      <td>4</td>\n",
       "      <td>9</td>\n",
       "    </tr>\n",
       "  </tbody>\n",
       "</table>\n",
       "</div>"
      ],
      "text/plain": [
       "   x-box  y-box  width  high  onpix  x-bar  y-bar  x2bar  y2bar  xybar  x2ybr  \\\n",
       "0      4     10      5     8      2      5      7      7     10      7      6   \n",
       "1      3      5      4     4      2      4      8      5      7     12      9   \n",
       "2      5     10      6     7      3      8      7      8      8      6      7   \n",
       "3      5      9      6     7      4      3      8      6      7     12     10   \n",
       "4      4      8      5     6      3      6      6      7      6     10      7   \n",
       "\n",
       "   xy2br  x-ege  xegvy  y-ege  yegvx  \n",
       "0     13      1      8      4      9  \n",
       "1     11      1     10      2      7  \n",
       "2      9      2      7      5     10  \n",
       "3     13      1      9      3      7  \n",
       "4     12      2      9      4      9  "
      ]
     },
     "execution_count": 4,
     "metadata": {},
     "output_type": "execute_result"
    }
   ],
   "source": [
    "#Feature Matrix\n",
    "# Columns\n",
    "X = hw4_data.iloc[:,1:]\n",
    "X.head()"
   ]
  },
  {
   "cell_type": "code",
   "execution_count": 5,
   "id": "c8529125",
   "metadata": {},
   "outputs": [
    {
     "data": {
      "text/plain": [
       "0    C\n",
       "1    C\n",
       "2    G\n",
       "3    C\n",
       "4    G\n",
       "Name: Class, dtype: object"
      ]
     },
     "execution_count": 5,
     "metadata": {},
     "output_type": "execute_result"
    }
   ],
   "source": [
    "#Create target Vector\n",
    "y = hw4_data.iloc[:, 0]\n",
    "y.head()"
   ]
  },
  {
   "cell_type": "code",
   "execution_count": 6,
   "id": "03b61802",
   "metadata": {},
   "outputs": [],
   "source": [
    "# split the data into training 70% and validation 30% parts, with a random state of 30\n",
    "\n",
    "X_train, X_test, y_train, y_test = train_test_split(X, y, test_size=0.3,random_state=30)\n",
    "\n"
   ]
  },
  {
   "cell_type": "markdown",
   "id": "0ed5b1d7",
   "metadata": {},
   "source": [
    "1. Implement the Adaboost algorithm with decision tree with max depth=1 as the base classifier and use learning rate=0.2. Run Adaboost for 200 rounds (M=200). "
   ]
  },
  {
   "cell_type": "code",
   "execution_count": 7,
   "id": "38d22c7e",
   "metadata": {},
   "outputs": [],
   "source": [
    "# Build AdaBoost Classifier\n",
    "# Decision tree with max depth is set as default to 1\n",
    "ada_clf = AdaBoostClassifier(n_estimators=200,\n",
    "                             algorithm=\"SAMME.R\", learning_rate=0.2)\n",
    "ada_clf.fit(X_train, y_train);"
   ]
  },
  {
   "cell_type": "code",
   "execution_count": 11,
   "id": "3c34d8a4",
   "metadata": {},
   "outputs": [
    {
     "data": {
      "text/plain": [
       "0.9470198675496688"
      ]
     },
     "execution_count": 11,
     "metadata": {},
     "output_type": "execute_result"
    }
   ],
   "source": [
    "# Check the accuracy score on the test data\n",
    "ada_clf.score(X_test, y_test)"
   ]
  },
  {
   "cell_type": "markdown",
   "id": "8f855825",
   "metadata": {},
   "source": [
    "2. Use the staged_score() function (check the function description) on the validation data to get the accuracy score to find the optimal $M$. The final Adaboost ensemble uses the optimal $M$. "
   ]
  },
  {
   "cell_type": "code",
   "execution_count": 22,
   "id": "b93e75dc",
   "metadata": {},
   "outputs": [
    {
     "data": {
      "text/plain": [
       "(array([142, 169, 172], dtype=int64),)"
      ]
     },
     "execution_count": 22,
     "metadata": {},
     "output_type": "execute_result"
    }
   ],
   "source": [
    "# Using the staged_score() function \n",
    "# Method of Adaboost\n",
    "# M is the number of models you use\n",
    "\n",
    "staged_score = ada_clf.staged_score(X_test, y_test, sample_weight=None)\n",
    "\n",
    "# Now we must convert the staged_score variable to a list\n",
    "staged_score_list = list(staged_score)\n",
    "\n",
    "# Now we need to convert the list into a numpy array\n",
    "staged_score_array = np.asarray(staged_score_list)\n",
    "\n",
    "np.where(staged_score_array == np.amax(staged_score_array))"
   ]
  },
  {
   "cell_type": "markdown",
   "id": "d487b40e",
   "metadata": {},
   "source": [
    "As python uses 0-based indexing, the optimal M is 143. "
   ]
  },
  {
   "cell_type": "markdown",
   "id": "a87d861c",
   "metadata": {},
   "source": [
    "3. Report the accuracy of prediction with the final ensemble for the validation instances."
   ]
  },
  {
   "cell_type": "code",
   "execution_count": 38,
   "id": "0d39c5ed",
   "metadata": {},
   "outputs": [
    {
     "data": {
      "text/plain": [
       "AdaBoostClassifier(base_estimator=DecisionTreeClassifier(max_depth=1),\n",
       "                   learning_rate=0.2, n_estimators=143)"
      ]
     },
     "execution_count": 38,
     "metadata": {},
     "output_type": "execute_result"
    }
   ],
   "source": [
    "# Build AdaBoost with max_model we just found\n",
    "ada_clf_optimal = AdaBoostClassifier(\n",
    "DecisionTreeClassifier(max_depth=1), n_estimators=max_model,\n",
    "algorithm=\"SAMME.R\", learning_rate=0.2)\n",
    "ada_clf_optimal.fit(X_train, y_train)"
   ]
  },
  {
   "cell_type": "code",
   "execution_count": 41,
   "id": "2225e4cb",
   "metadata": {},
   "outputs": [
    {
     "name": "stdout",
     "output_type": "stream",
     "text": [
      "The accuracy score for the final ensemble is the following: 0.9514348785871964\n"
     ]
    }
   ],
   "source": [
    "# Check the accuracy score on the test data\n",
    "accuracy_optimal=ada_clf_optimal.score(X_test, y_test)\n",
    "\n",
    "print('The accuracy score for the final ensemble is the following:', accuracy_optimal)"
   ]
  },
  {
   "cell_type": "markdown",
   "id": "f5f0549e",
   "metadata": {},
   "source": [
    "4. Make a plot of the accuracy score vs ensemble size/rounds (M) for the training data. Make the same plot for the validation data on the same figure. What do you find?"
   ]
  },
  {
   "cell_type": "code",
   "execution_count": 25,
   "id": "8cdeb57f",
   "metadata": {},
   "outputs": [],
   "source": [
    "from matplotlib import pyplot as plt"
   ]
  },
  {
   "cell_type": "code",
   "execution_count": 31,
   "id": "430e6738",
   "metadata": {},
   "outputs": [
    {
     "data": {
      "image/png": "[encoded data removed]",
      "text/plain": [
       "<Figure size 432x288 with 1 Axes>"
      ]
     },
     "metadata": {
      "needs_background": "light"
     },
     "output_type": "display_data"
    }
   ],
   "source": [
    "#Plot Iteration based score\n",
    "traing_data_scores = list(ada_clf.staged_score(X_train,y_train))\n",
    "test_data_scores = list(ada_clf.staged_score(X_test, y_test))\n",
    "\n",
    "plt.plot(traing_data_scores, \"r:\",label='Training Data')\n",
    "plt.plot(test_data_scores, label='Validation Data')\n",
    "plt.xlabel('Iteration')\n",
    "plt.ylabel('Accuracy')\n",
    "plt.title(\"Variation of Accuracy with Iterations\")\n",
    "plt.legend();"
   ]
  },
  {
   "cell_type": "markdown",
   "id": "dff6d5c6",
   "metadata": {},
   "source": [
    "Notice that the Training Data keeps increasing as the Validation Data goes back down and levels off. \n",
    "Thus, we are overfitting the data."
   ]
  },
  {
   "cell_type": "code",
   "execution_count": null,
   "id": "95dca691",
   "metadata": {},
   "outputs": [],
   "source": []
  }
 ],
 "metadata": {
  "kernelspec": {
   "display_name": "Python 3 (ipykernel)",
   "language": "python",
   "name": "python3"
  },
  "language_info": {
   "codemirror_mode": {
    "name": "ipython",
    "version": 3
   },
   "file_extension": ".py",
   "mimetype": "text/x-python",
   "name": "python",
   "nbconvert_exporter": "python",
   "pygments_lexer": "ipython3",
   "version": "3.9.7"
  },
  "latex_envs": {
   "LaTeX_envs_menu_present": true,
   "autoclose": false,
   "autocomplete": true,
   "bibliofile": "biblio.bib",
   "cite_by": "apalike",
   "current_citInitial": 1,
   "eqLabelWithNumbers": true,
   "eqNumInitial": 1,
   "hotkeys": {
    "equation": "Ctrl-E",
    "itemize": "Ctrl-I"
   },
   "labels_anchors": false,
   "latex_user_defs": false,
   "report_style_numbering": false,
   "user_envs_cfg": false
  },
  "toc": {
   "base_numbering": 1,
   "nav_menu": {},
   "number_sections": true,
   "sideBar": true,
   "skip_h1_title": false,
   "title_cell": "Table of Contents",
   "title_sidebar": "Contents",
   "toc_cell": false,
   "toc_position": {},
   "toc_section_display": true,
   "toc_window_display": false
  }
 },
 "nbformat": 4,
 "nbformat_minor": 5
}
